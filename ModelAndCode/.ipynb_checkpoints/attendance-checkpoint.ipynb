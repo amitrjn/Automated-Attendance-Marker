{
 "cells": [
  {
   "cell_type": "code",
   "execution_count": 1,
   "metadata": {},
   "outputs": [
    {
     "name": "stderr",
     "output_type": "stream",
     "text": [
      "/anaconda3/lib/python3.6/site-packages/h5py/__init__.py:36: FutureWarning: Conversion of the second argument of issubdtype from `float` to `np.floating` is deprecated. In future, it will be treated as `np.float64 == np.dtype(float).type`.\n",
      "  from ._conv import register_converters as _register_converters\n",
      "Using TensorFlow backend.\n"
     ]
    }
   ],
   "source": [
    "\n",
    "import sys\n",
    "sys.path.append('./mtcnn-master')\n",
    "from mtcnn.mtcnn import MTCNN\n",
    "import cv2\n",
    "import os\n",
    "from PIL import Image\n",
    "import numpy as np\n",
    "from keras.models import Model\n",
    "\n",
    "from inception_resnet_v1 import *\n",
    "\n",
    "model = InceptionResNetV1()\n",
    "model.load_weights('model/facenet_weights.h5')\n",
    "\n",
    "detector = MTCNN()\n",
    "\n",
    "\n",
    "\n",
    "\n",
    "\n"
   ]
  },
  {
   "cell_type": "code",
   "execution_count": 2,
   "metadata": {},
   "outputs": [],
   "source": [
    "img_src = \"DataSet/batch/attendances/todayDate/images\"\n",
    "stud_img_src = \"DataSet/batch/students/stud_img_src/\"\n",
    "class_strength = 11\n",
    "dim = (160, 160)\n",
    "\n",
    "attendance = []"
   ]
  },
  {
   "cell_type": "code",
   "execution_count": 3,
   "metadata": {},
   "outputs": [],
   "source": [
    "def l2_normalize(x):\n",
    " return x / np.sqrt(np.sum(np.multiply(x, x)))\n",
    "\n",
    "\n",
    "def findEuclideanDistance(source_representation, test_representation):\n",
    "\teuclidean_distance = source_representation - test_representation\n",
    "\teuclidean_distance = np.sum(np.multiply(euclidean_distance, euclidean_distance))\n",
    "\teuclidean_distance = np.sqrt(euclidean_distance)\n",
    "\treturn euclidean_distance\n",
    "\n",
    "\n",
    "\n",
    "\n",
    "\n",
    "\n"
   ]
  },
  {
   "cell_type": "code",
   "execution_count": 4,
   "metadata": {},
   "outputs": [
    {
     "name": "stdout",
     "output_type": "stream",
     "text": [
      "10\n",
      "5\n",
      "6\n",
      "8\n",
      "6\n",
      "11\n",
      "11\n"
     ]
    }
   ],
   "source": [
    "for i in range(3):\n",
    "\n",
    "    img  = cv2.imread(img_src + \"/Img_{}.jpg\".format(i+1))\n",
    "    faces = detector.detect_faces(img)\n",
    "\n",
    "    face_coordinates = []\n",
    "\n",
    "    for j in range(len(faces)):\n",
    "        temp = faces[j]\n",
    "        temp = temp[\"box\"]\n",
    "        face_coordinates.append(temp)\n",
    "\n",
    "    imageObject = Image.open(img_src + \"/Img_{}.jpg\".format(i+1))\n",
    "\n",
    "    for k in range(len(face_coordinates)):\n",
    "        cropped = imageObject.crop((face_coordinates[k][0],face_coordinates[k][1],face_coordinates[k][0]+ face_coordinates[k][2],face_coordinates[k][1]+face_coordinates[k][3]))\n",
    "        cropped = np.array(cropped)\n",
    "        resized_cropped = cv2.resize(cropped,dim,interpolation=cv2.INTER_AREA)\n",
    "        reshaped_cropped = resized_cropped.reshape(1,resized_cropped.shape[0],resized_cropped.shape[1],resized_cropped.shape[2])\n",
    "        crop_val = l2_normalize(model.predict(reshaped_cropped)[0,:])\n",
    "\n",
    "        min_euc = 1\n",
    "        weights = [0.6, 0.12, 0.12, 0.08, 0.08]\n",
    "\n",
    "        for l in range(class_strength):\n",
    "            student = stud_img_src + \"rollNo_{}\".format(l+1)\n",
    "            sum_euclidean_distance = 0\n",
    "            for m in range(1):\n",
    "                pic_val = np.load(student + \"/{}.npy\".format(m+1))\n",
    "                euclidean_distance = findEuclideanDistance(crop_val, pic_val)\n",
    "                sum_euclidean_distance += euclidean_distance#*weights[m]\n",
    "\n",
    "#             sum_euclidean_distance /= 5\n",
    "\n",
    "            if min_euc > sum_euclidean_distance:\n",
    "                min_euc = sum_euclidean_distance\n",
    "                roll_present = l+1\n",
    "\n",
    "        print(roll_present)\n",
    "        attendance.append(roll_present)\t\t\n",
    "\n",
    "with open('attendance.txt', 'w') as f:\n",
    "    for item in attendance:\n",
    "        f.write(\"%s\\n\" % item)\n",
    "\t\n"
   ]
  },
  {
   "cell_type": "code",
   "execution_count": null,
   "metadata": {},
   "outputs": [],
   "source": []
  }
 ],
 "metadata": {
  "kernelspec": {
   "display_name": "Python 3",
   "language": "python",
   "name": "python3"
  },
  "language_info": {
   "codemirror_mode": {
    "name": "ipython",
    "version": 3
   },
   "file_extension": ".py",
   "mimetype": "text/x-python",
   "name": "python",
   "nbconvert_exporter": "python",
   "pygments_lexer": "ipython3",
   "version": "3.6.5"
  }
 },
 "nbformat": 4,
 "nbformat_minor": 2
}
